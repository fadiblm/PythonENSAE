{
 "cells": [
  {
   "cell_type": "markdown",
   "metadata": {},
   "source": [
    "# Cartographie des eaux souterraines polluée en France\n",
    "\n",
    "## 1) La base de données\n",
    "\n",
    "Base de données récupérée [ici](https://www.data.gouv.fr/fr/datasets/pesticides-dans-les-eaux-souterraines/) : site du gouvernement, data.gouv, base intitulée \"Pesticides dans les eaux souterraines\". \n",
    "Extrait du descriptif de la base de données:\n",
    "Des informations sur la contamination des eaux souterraines par les pesticides sont régulièrement diffusées.\n",
    "Elles s’appuient sur l’exploitation des données provenant du réseau de surveillance des nappes souterraines\n",
    "qui comprend près de 2 200 stations de mesures réparties sur le territoire français (métropole et outremer)."
   ]
  },
  {
   "cell_type": "markdown",
   "metadata": {},
   "source": []
  }
 ],
 "metadata": {
  "language_info": {
   "name": "python"
  }
 },
 "nbformat": 4,
 "nbformat_minor": 2
}
