{
 "cells": [
  {
   "cell_type": "code",
   "execution_count": 2,
   "metadata": {},
   "outputs": [
    {
     "name": "stderr",
     "output_type": "stream",
     "text": [
      "/opt/conda/lib/python3.12/site-packages/tqdm/auto.py:21: TqdmWarning: IProgress not found. Please update jupyter and ipywidgets. See https://ipywidgets.readthedocs.io/en/stable/user_install.html\n",
      "  from .autonotebook import tqdm as notebook_tqdm\n"
     ]
    }
   ],
   "source": [
    "import numpy as np \n",
    "import os\n",
    "import pandas as pd \n",
    "import matplotlib.pyplot as plt \n",
    "\n",
    "#Importation des bibliothèques pour de la modélisation \n",
    "from sklearn.linear_model import LinearRegression\n",
    "from sklearn.model_selection import train_test_split\n",
    "from sklearn.metrics import mean_squared_error\n",
    "\n",
    " \n",
    "import kagglehub\n",
    "from scipy.stats import pearsonr\n",
    "import seaborn as sns\n",
    "from scipy.stats import linregress"
   ]
  },
  {
   "cell_type": "code",
   "execution_count": 3,
   "metadata": {},
   "outputs": [
    {
     "data": {
      "text/html": [
       "<div>\n",
       "<style scoped>\n",
       "    .dataframe tbody tr th:only-of-type {\n",
       "        vertical-align: middle;\n",
       "    }\n",
       "\n",
       "    .dataframe tbody tr th {\n",
       "        vertical-align: top;\n",
       "    }\n",
       "\n",
       "    .dataframe thead th {\n",
       "        text-align: right;\n",
       "    }\n",
       "</style>\n",
       "<table border=\"1\" class=\"dataframe\">\n",
       "  <thead>\n",
       "    <tr style=\"text-align: right;\">\n",
       "      <th></th>\n",
       "      <th>Brand_ID</th>\n",
       "      <th>Brand_Name</th>\n",
       "      <th>Country</th>\n",
       "      <th>Year</th>\n",
       "      <th>Sustainability_Rating</th>\n",
       "      <th>Material_Type</th>\n",
       "      <th>Eco_Friendly_Manufacturing</th>\n",
       "      <th>Carbon_Footprint_MT</th>\n",
       "      <th>Water_Usage_Liters</th>\n",
       "      <th>Waste_Production_KG</th>\n",
       "      <th>Recycling_Programs</th>\n",
       "      <th>Product_Lines</th>\n",
       "      <th>Average_Price_USD</th>\n",
       "      <th>Market_Trend</th>\n",
       "      <th>Certifications</th>\n",
       "    </tr>\n",
       "  </thead>\n",
       "  <tbody>\n",
       "    <tr>\n",
       "      <th>0</th>\n",
       "      <td>BRAND-0001</td>\n",
       "      <td>Brand_1</td>\n",
       "      <td>Australia</td>\n",
       "      <td>2018</td>\n",
       "      <td>D</td>\n",
       "      <td>Tencel</td>\n",
       "      <td>No</td>\n",
       "      <td>1.75</td>\n",
       "      <td>4511152.79</td>\n",
       "      <td>97844.11</td>\n",
       "      <td>No</td>\n",
       "      <td>2</td>\n",
       "      <td>38.33</td>\n",
       "      <td>Growing</td>\n",
       "      <td>GOTS</td>\n",
       "    </tr>\n",
       "    <tr>\n",
       "      <th>1</th>\n",
       "      <td>BRAND-0002</td>\n",
       "      <td>Brand_2</td>\n",
       "      <td>Japan</td>\n",
       "      <td>2015</td>\n",
       "      <td>D</td>\n",
       "      <td>Vegan Leather</td>\n",
       "      <td>Yes</td>\n",
       "      <td>124.39</td>\n",
       "      <td>1951566.31</td>\n",
       "      <td>37267.75</td>\n",
       "      <td>No</td>\n",
       "      <td>15</td>\n",
       "      <td>250.07</td>\n",
       "      <td>Growing</td>\n",
       "      <td>GOTS</td>\n",
       "    </tr>\n",
       "    <tr>\n",
       "      <th>2</th>\n",
       "      <td>BRAND-0003</td>\n",
       "      <td>Brand_3</td>\n",
       "      <td>USA</td>\n",
       "      <td>2024</td>\n",
       "      <td>A</td>\n",
       "      <td>Vegan Leather</td>\n",
       "      <td>No</td>\n",
       "      <td>336.66</td>\n",
       "      <td>467454.52</td>\n",
       "      <td>38385.92</td>\n",
       "      <td>No</td>\n",
       "      <td>2</td>\n",
       "      <td>146.16</td>\n",
       "      <td>Growing</td>\n",
       "      <td>B Corp</td>\n",
       "    </tr>\n",
       "    <tr>\n",
       "      <th>3</th>\n",
       "      <td>BRAND-0004</td>\n",
       "      <td>Brand_4</td>\n",
       "      <td>Italy</td>\n",
       "      <td>2023</td>\n",
       "      <td>D</td>\n",
       "      <td>Bamboo Fabric</td>\n",
       "      <td>No</td>\n",
       "      <td>152.04</td>\n",
       "      <td>899576.90</td>\n",
       "      <td>32665.45</td>\n",
       "      <td>No</td>\n",
       "      <td>13</td>\n",
       "      <td>165.52</td>\n",
       "      <td>Stable</td>\n",
       "      <td>OEKO-TEX</td>\n",
       "    </tr>\n",
       "    <tr>\n",
       "      <th>4</th>\n",
       "      <td>BRAND-0005</td>\n",
       "      <td>Brand_5</td>\n",
       "      <td>USA</td>\n",
       "      <td>2016</td>\n",
       "      <td>D</td>\n",
       "      <td>Bamboo Fabric</td>\n",
       "      <td>Yes</td>\n",
       "      <td>415.63</td>\n",
       "      <td>1809219.90</td>\n",
       "      <td>37295.47</td>\n",
       "      <td>Yes</td>\n",
       "      <td>19</td>\n",
       "      <td>211.63</td>\n",
       "      <td>Stable</td>\n",
       "      <td>Fair Trade</td>\n",
       "    </tr>\n",
       "  </tbody>\n",
       "</table>\n",
       "</div>"
      ],
      "text/plain": [
       "     Brand_ID Brand_Name    Country  Year Sustainability_Rating  \\\n",
       "0  BRAND-0001    Brand_1  Australia  2018                     D   \n",
       "1  BRAND-0002    Brand_2      Japan  2015                     D   \n",
       "2  BRAND-0003    Brand_3        USA  2024                     A   \n",
       "3  BRAND-0004    Brand_4      Italy  2023                     D   \n",
       "4  BRAND-0005    Brand_5        USA  2016                     D   \n",
       "\n",
       "   Material_Type Eco_Friendly_Manufacturing  Carbon_Footprint_MT  \\\n",
       "0         Tencel                         No                 1.75   \n",
       "1  Vegan Leather                        Yes               124.39   \n",
       "2  Vegan Leather                         No               336.66   \n",
       "3  Bamboo Fabric                         No               152.04   \n",
       "4  Bamboo Fabric                        Yes               415.63   \n",
       "\n",
       "   Water_Usage_Liters  Waste_Production_KG Recycling_Programs  Product_Lines  \\\n",
       "0          4511152.79             97844.11                 No              2   \n",
       "1          1951566.31             37267.75                 No             15   \n",
       "2           467454.52             38385.92                 No              2   \n",
       "3           899576.90             32665.45                 No             13   \n",
       "4          1809219.90             37295.47                Yes             19   \n",
       "\n",
       "   Average_Price_USD Market_Trend Certifications  \n",
       "0              38.33      Growing           GOTS  \n",
       "1             250.07      Growing           GOTS  \n",
       "2             146.16      Growing         B Corp  \n",
       "3             165.52       Stable       OEKO-TEX  \n",
       "4             211.63       Stable     Fair Trade  "
      ]
     },
     "execution_count": 3,
     "metadata": {},
     "output_type": "execute_result"
    }
   ],
   "source": [
    "df = pd.read_csv('sustainable_fashion_trends_2024.csv')\n",
    "df.head()"
   ]
  },
  {
   "cell_type": "code",
   "execution_count": 4,
   "metadata": {},
   "outputs": [],
   "source": [
    "def analyze_sustainability_eco_manufacturing(data):\n",
    "    \"\"\"\n",
    "    Analyse la relation entre Sustainability_Rating et Eco_Friendly_Manufacturing en respectant l'ordre A, B, C, D.\n",
    "    \n",
    "    Paramètres :\n",
    "        data (pd.DataFrame) : Dataset contenant les colonnes 'Sustainability_Rating' et 'Eco_Friendly_Manufacturing'.\n",
    "    \n",
    "    Affiche :\n",
    "        Un tableau croisé dynamique montrant le nombre d'occurrences de chaque combinaison,\n",
    "        ainsi qu'un graphique illustrant la relation.\n",
    "    \"\"\"\n",
    "    # Définir l'ordre des catégories pour Sustainability_Rating\n",
    "    data['Sustainability_Rating'] = pd.Categorical(data['Sustainability_Rating'], categories=['A', 'B', 'C', 'D'], ordered=True)\n",
    "    \n",
    "    # Créer un tableau croisé dynamique pour compter les combinaisons\n",
    "    pivot_table = pd.crosstab(data['Sustainability_Rating'], data['Eco_Friendly_Manufacturing'])\n",
    "    \n",
    "    # Afficher le tableau croisé\n",
    "    print(\"Tableau croisé de Sustainability_Rating et Eco_Friendly_Manufacturing:\")\n",
    "    print(pivot_table)\n",
    "    \n",
    "    # Visualiser la relation\n",
    "    plt.figure(figsize=(8, 6))\n",
    "    sns.countplot(data=data, x='Sustainability_Rating', hue='Eco_Friendly_Manufacturing', palette=\"viridis\",\n",
    "                  order=['A', 'B', 'C', 'D'])  # Spécifier l'ordre pour le graphique\n",
    "    plt.title(\"Relation entre Sustainability Rating et Eco-Friendly Manufacturing\")\n",
    "    plt.xlabel(\"Sustainability Rating\")\n",
    "    plt.ylabel(\"Nombre de marques\")\n",
    "    plt.legend(title=\"Eco Friendly Manufacturing\")\n",
    "    plt.show()\n",
    "\n"
   ]
  },
  {
   "cell_type": "code",
   "execution_count": 5,
   "metadata": {},
   "outputs": [
    {
     "name": "stdout",
     "output_type": "stream",
     "text": [
      "Tableau croisé de Sustainability_Rating et Eco_Friendly_Manufacturing:\n",
      "Eco_Friendly_Manufacturing   No  Yes\n",
      "Sustainability_Rating               \n",
      "A                           652  579\n",
      "B                           612  666\n",
      "C                           600  642\n",
      "D                           616  633\n"
     ]
    },
    {
     "data": {
      "image/png": "[encoded data removed]",
      "text/plain": [
       "<Figure size 800x600 with 1 Axes>"
      ]
     },
     "metadata": {},
     "output_type": "display_data"
    }
   ],
   "source": [
    "analyze_sustainability_eco_manufacturing(df)"
   ]
  },
  {
   "cell_type": "code",
   "execution_count": 6,
   "metadata": {},
   "outputs": [],
   "source": [
    "def analyze_correlation(data, var1, var2):\n",
    "    \"\"\"\n",
    "    Analyse la corrélation de Pearson entre deux variables spécifiées du dataset.\n",
    "    \n",
    "    Paramètres :\n",
    "        data (pd.DataFrame) : Dataset contenant les variables à analyser.\n",
    "        var1 (str) : Nom de la première colonne (variable).\n",
    "        var2 (str) : Nom de la deuxième colonne (variable).\n",
    "    \n",
    "    Affiche :\n",
    "        La corrélation de Pearson entre les deux variables spécifiées, ainsi que la p-valeur associée.\n",
    "    \"\"\"\n",
    "    # Vérifier que les variables existent dans le dataset\n",
    "    if var1 not in data.columns or var2 not in data.columns:\n",
    "        raise ValueError(f\"Les colonnes {var1} ou {var2} ne sont pas présentes dans le dataset.\")\n",
    "    \n",
    "    # Convertir les variables catégorielles en numériques si nécessaire\n",
    "    data_encoded = data.copy()\n",
    "    if data_encoded[var1].dtype == 'object':\n",
    "        data_encoded[var1] = data_encoded[var1].astype('category').cat.codes\n",
    "    if data_encoded[var2].dtype == 'object':\n",
    "        data_encoded[var2] = data_encoded[var2].astype('category').cat.codes\n",
    "    \n",
    "    # Calcul de la corrélation de Pearson\n",
    "    correlation, p_value = pearsonr(data_encoded[var1], data_encoded[var2])\n",
    "    \n",
    "    # Afficher les résultats\n",
    "    print(f\"Corrélation de Pearson entre {var1} et {var2}: {correlation:.3f}\")\n",
    "    print(f\"P-valeur: {p_value:.3f}\")\n",
    "    \n",
    "    # Interprétation\n",
    "    if p_value < 0.05:\n",
    "        print(\"La corrélation est statistiquement significative (p < 0.05).\")\n",
    "    else:\n",
    "        print(\"La corrélation n'est pas statistiquement significative (p >= 0.05).\")\n"
   ]
  },
  {
   "cell_type": "code",
   "execution_count": 7,
   "metadata": {},
   "outputs": [],
   "source": [
    "def find_significant_correlations(data, columns):\n",
    "    \"\"\"\n",
    "    Trouve les corrélations de Pearson significatives entre les variables spécifiées.\n",
    "    \n",
    "    Paramètres :\n",
    "        data (pd.DataFrame) : Dataset contenant les variables.\n",
    "        columns (list) : Liste des noms de colonnes pour lesquelles tester les corrélations.\n",
    "    \n",
    "    Affiche :\n",
    "        La liste des paires de variables avec une corrélation de Pearson statistiquement significative.\n",
    "    \"\"\"\n",
    "    # Initialiser une liste pour stocker les résultats des corrélations significatives\n",
    "    significant_correlations = []\n",
    "\n",
    "    # Encoder les variables catégorielles en numériques si nécessaire\n",
    "    data_encoded = data[columns].copy()\n",
    "    for col in columns:\n",
    "        if data_encoded[col].dtype == 'object':\n",
    "            data_encoded[col] = data_encoded[col].astype('category').cat.codes\n",
    "    \n",
    "    # Calculer les corrélations de Pearson pour chaque paire de variables\n",
    "    for i in range(len(columns)):\n",
    "        for j in range(i + 1, len(columns)):\n",
    "            var1 = columns[i]\n",
    "            var2 = columns[j]\n",
    "            \n",
    "            # Calculer la corrélation de Pearson et la p-valeur\n",
    "            correlation, p_value = pearsonr(data_encoded[var1], data_encoded[var2])\n",
    "            \n",
    "            # Vérifier si la corrélation est statistiquement significative\n",
    "            if p_value < 0.05:\n",
    "                significant_correlations.append({\n",
    "                    'Variable 1': var1,\n",
    "                    'Variable 2': var2,\n",
    "                    'Correlation': correlation,\n",
    "                    'P-Value': p_value\n",
    "                })\n",
    "    \n",
    "    # Afficher les résultats\n",
    "    if significant_correlations:\n",
    "        print(\"Corrélations significatives trouvées :\")\n",
    "        for result in significant_correlations:\n",
    "            print(f\"{result['Variable 1']} - {result['Variable 2']} : Corrélation = {result['Correlation']:.3f}, P-valeur = {result['P-Value']:.3f}\")\n",
    "    else:\n",
    "        print(\"Aucune corrélation statistiquement significative trouvée parmi les variables spécifiées.\")"
   ]
  },
  {
   "cell_type": "code",
   "execution_count": 8,
   "metadata": {},
   "outputs": [
    {
     "name": "stderr",
     "output_type": "stream",
     "text": [
      "/tmp/ipykernel_13671/3093054234.py:2: FutureWarning: Downcasting behavior in `replace` is deprecated and will be removed in a future version. To retain the old behavior, explicitly call `result.infer_objects(copy=False)`. To opt-in to the future behavior, set `pd.set_option('future.no_silent_downcasting', True)`\n",
      "  df_correlation['Sustainability_Rating'] = df_correlation['Sustainability_Rating'].replace({'A': 1, 'B': 2, 'C': 3, 'D': 4})\n",
      "/tmp/ipykernel_13671/3093054234.py:2: FutureWarning: The behavior of Series.replace (and DataFrame.replace) with CategoricalDtype is deprecated. In a future version, replace will only be used for cases that preserve the categories. To change the categories, use ser.cat.rename_categories instead.\n",
      "  df_correlation['Sustainability_Rating'] = df_correlation['Sustainability_Rating'].replace({'A': 1, 'B': 2, 'C': 3, 'D': 4})\n",
      "/tmp/ipykernel_13671/3093054234.py:3: FutureWarning: Downcasting behavior in `replace` is deprecated and will be removed in a future version. To retain the old behavior, explicitly call `result.infer_objects(copy=False)`. To opt-in to the future behavior, set `pd.set_option('future.no_silent_downcasting', True)`\n",
      "  df_correlation['Eco_Friendly_Manufacturing'] = df_correlation['Eco_Friendly_Manufacturing'].replace({'Yes': 1, 'No': 0})\n",
      "/tmp/ipykernel_13671/3093054234.py:4: FutureWarning: Downcasting behavior in `replace` is deprecated and will be removed in a future version. To retain the old behavior, explicitly call `result.infer_objects(copy=False)`. To opt-in to the future behavior, set `pd.set_option('future.no_silent_downcasting', True)`\n",
      "  df_correlation['Recycling_Programs'] = df_correlation['Recycling_Programs'].replace({'Yes': 1, 'No': 0})\n",
      "/tmp/ipykernel_13671/3093054234.py:5: FutureWarning: Downcasting behavior in `replace` is deprecated and will be removed in a future version. To retain the old behavior, explicitly call `result.infer_objects(copy=False)`. To opt-in to the future behavior, set `pd.set_option('future.no_silent_downcasting', True)`\n",
      "  df_correlation['Market_Trend'] = df_correlation['Market_Trend'].replace({'Stable': 0, 'Growing': 1, 'Declining': 2})\n"
     ]
    }
   ],
   "source": [
    "df_correlation = df.copy()\n",
    "df_correlation['Sustainability_Rating'] = df_correlation['Sustainability_Rating'].replace({'A': 1, 'B': 2, 'C': 3, 'D': 4})\n",
    "df_correlation['Eco_Friendly_Manufacturing'] = df_correlation['Eco_Friendly_Manufacturing'].replace({'Yes': 1, 'No': 0})\n",
    "df_correlation['Recycling_Programs'] = df_correlation['Recycling_Programs'].replace({'Yes': 1, 'No': 0})\n",
    "df_correlation['Market_Trend'] = df_correlation['Market_Trend'].replace({'Stable': 0, 'Growing': 1, 'Declining': 2})\n",
    "\n"
   ]
  },
  {
   "cell_type": "code",
   "execution_count": 9,
   "metadata": {},
   "outputs": [
    {
     "name": "stdout",
     "output_type": "stream",
     "text": [
      "Corrélations significatives trouvées :\n",
      "Eco_Friendly_Manufacturing - Market_Trend : Corrélation = 0.029, P-valeur = 0.042\n",
      "Carbon_Footprint_MT - Recycling_Programs : Corrélation = -0.036, P-valeur = 0.012\n",
      "Carbon_Footprint_MT - Product_Lines : Corrélation = 0.028, P-valeur = 0.046\n",
      "Water_Usage_Liters - Product_Lines : Corrélation = 0.035, P-valeur = 0.013\n"
     ]
    }
   ],
   "source": [
    "columns = ['Sustainability_Rating', 'Eco_Friendly_Manufacturing', 'Carbon_Footprint_MT', 'Water_Usage_Liters', 'Waste_Production_KG', 'Recycling_Programs', 'Product_Lines', 'Average_Price_USD','Market_Trend']\n",
    "find_significant_correlations(df_correlation, columns)"
   ]
  },
  {
   "cell_type": "code",
   "execution_count": 12,
   "metadata": {},
   "outputs": [
    {
     "data": {
      "image/png": "[encoded data removed]",
      "text/plain": [
       "<Figure size 1000x600 with 1 Axes>"
      ]
     },
     "metadata": {},
     "output_type": "display_data"
    }
   ],
   "source": [
    "# Configuration de la taille du graphique\n",
    "plt.figure(figsize=(10, 6))\n",
    "\n",
    "# Affichage de l'histogramme de la distribution des prix\n",
    "sns.histplot(df['Average_Price_USD'], kde=True, color='skyblue', bins=10)\n",
    "\n",
    "# Titre et labels\n",
    "plt.title(\"Distribution du prix moyen des marques\", fontsize=16)\n",
    "plt.xlabel(\"Prix moyen (USD)\", fontsize=12)\n",
    "plt.ylabel(\"Fréquence\", fontsize=12)\n",
    "\n",
    "# Affichage du graphique\n",
    "plt.show()"
   ]
  },
  {
   "cell_type": "code",
   "execution_count": 13,
   "metadata": {},
   "outputs": [
    {
     "name": "stdout",
     "output_type": "stream",
     "text": [
      "Impact carbone moyen par catégorie de prix :\n",
      "Price_Category\n",
      "0-35 USD        254.642410\n",
      "35-60 USD       242.119414\n",
      "Above 60 USD    250.619166\n",
      "Name: Carbon_Footprint_MT, dtype: float64\n"
     ]
    },
    {
     "name": "stderr",
     "output_type": "stream",
     "text": [
      "/tmp/ipykernel_13671/3929079007.py:6: FutureWarning: The default of observed=False is deprecated and will be changed to True in a future version of pandas. Pass observed=False to retain current behavior or observed=True to adopt the future default and silence this warning.\n",
      "  carbon_impact_by_category = df.groupby('Price_Category')['Carbon_Footprint_MT'].mean()\n"
     ]
    }
   ],
   "source": [
    "df['Price_Category'] = pd.cut(df[\"Average_Price_USD\"],\n",
    "                              bins=[0, 35, 60, float('inf')],\n",
    "                              labels=[\"0-35 USD\", \"35-60 USD\", \"Above 60 USD\"])\n",
    "\n",
    "# Calculer l'impact carbone moyen pour chaque catégorie\n",
    "carbon_impact_by_category = df.groupby('Price_Category')['Carbon_Footprint_MT'].mean()\n",
    "\n",
    "# Afficher les résultats\n",
    "print(\"Impact carbone moyen par catégorie de prix :\")\n",
    "print(carbon_impact_by_category)"
   ]
  }
 ],
 "metadata": {
  "kernelspec": {
   "display_name": "base",
   "language": "python",
   "name": "python3"
  },
  "language_info": {
   "codemirror_mode": {
    "name": "ipython",
    "version": 3
   },
   "file_extension": ".py",
   "mimetype": "text/x-python",
   "name": "python",
   "nbconvert_exporter": "python",
   "pygments_lexer": "ipython3",
   "version": "3.12.6"
  }
 },
 "nbformat": 4,
 "nbformat_minor": 2
}
