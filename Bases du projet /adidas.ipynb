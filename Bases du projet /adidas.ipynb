{
 "cells": [
  {
   "cell_type": "code",
   "execution_count": 20,
   "metadata": {},
   "outputs": [],
   "source": [
    "import numpy as np \n",
    "import os\n",
    "import pandas as pd \n",
    "import matplotlib.pyplot as plt \n",
    "import kagglehub"
   ]
  },
  {
   "cell_type": "code",
   "execution_count": 21,
   "metadata": {},
   "outputs": [],
   "source": [
    "df_sustainable = pd.read_csv('sustainable_fashion_trends_2024.csv')\n",
    "df_sustainable = df_sustainable[df_sustainable['Country'] == 'Germany']"
   ]
  },
  {
   "cell_type": "code",
   "execution_count": 22,
   "metadata": {},
   "outputs": [
    {
     "name": "stdout",
     "output_type": "stream",
     "text": [
      "['OEKO-TEX' nan 'Fair Trade' 'B Corp' 'GOTS']\n"
     ]
    }
   ],
   "source": [
    "certif = df_sustainable['Certifications'].unique()\n",
    "print(certif)"
   ]
  },
  {
   "cell_type": "code",
   "execution_count": 23,
   "metadata": {},
   "outputs": [
    {
     "data": {
      "text/plain": [
       "(196, 15)"
      ]
     },
     "execution_count": 23,
     "metadata": {},
     "output_type": "execute_result"
    }
   ],
   "source": [
    "df_sustainable = df_sustainable[(df_sustainable['Certifications'] == 'GOTS') | (df_sustainable['Certifications'].isna())]\n",
    "df_sustainable.shape"
   ]
  },
  {
   "cell_type": "code",
   "execution_count": 24,
   "metadata": {},
   "outputs": [
    {
     "data": {
      "text/plain": [
       "(50, 15)"
      ]
     },
     "execution_count": 24,
     "metadata": {},
     "output_type": "execute_result"
    }
   ],
   "source": [
    "df_sustainable = df_sustainable[(df_sustainable['Year'] >= 2018) & (df_sustainable['Year'] <= 2022)]\n",
    "df_sustainable.shape"
   ]
  },
  {
   "cell_type": "code",
   "execution_count": 25,
   "metadata": {},
   "outputs": [
    {
     "name": "stdout",
     "output_type": "stream",
     "text": [
      "Downloaded files: ['Plastic based Textiles in clothing industry.csv']\n"
     ]
    }
   ],
   "source": [
    "# Download the dataset and get the path to the directory\n",
    "data_dir = kagglehub.dataset_download(\"purohitgaurav/plastic-based-textiles-in-clothing-industry\")\n",
    "\n",
    "# List the files in the downloaded directory to ensure the correct path\n",
    "print(\"Downloaded files:\", os.listdir(data_dir))\n",
    "\n",
    "# Adjust this based on the actual filename inside the directory\n",
    "csv_file = \"Plastic based Textiles in clothing industry.csv\"\n",
    "file_path = os.path.join(data_dir, csv_file)\n",
    "\n",
    "df_plastic = pd.read_csv(file_path)\n",
    "df_plastic = df_plastic[df_plastic['Company'] == 'Adidas']\n",
    "\n"
   ]
  },
  {
   "cell_type": "code",
   "execution_count": 26,
   "metadata": {},
   "outputs": [
    {
     "data": {
      "text/plain": [
       "array(['Organic Cotton', 'Recycled Polyester', 'Tencel', 'Bamboo Fabric',\n",
       "       'Vegan Leather', 'Hemp'], dtype=object)"
      ]
     },
     "execution_count": 26,
     "metadata": {},
     "output_type": "execute_result"
    }
   ],
   "source": [
    "material_sustainable = df_sustainable['Material_Type'].unique()\n",
    "material"
   ]
  },
  {
   "cell_type": "code",
   "execution_count": 27,
   "metadata": {},
   "outputs": [
    {
     "data": {
      "text/plain": [
       "array(['Recycled_Poly', 'Cotton', 'Polyester', 'Synthetic_Blend', 'Wool',\n",
       "       'Viscose', 'Microfiber', 'Linen', 'Nylon', 'Organic_Cotton',\n",
       "       'Tencel'], dtype=object)"
      ]
     },
     "execution_count": 27,
     "metadata": {},
     "output_type": "execute_result"
    }
   ],
   "source": [
    "material_plastic = df_plastic['Product_Type'].unique()\n",
    "material_plastic"
   ]
  },
  {
   "cell_type": "code",
   "execution_count": 28,
   "metadata": {},
   "outputs": [
    {
     "data": {
      "text/plain": [
       "(30, 15)"
      ]
     },
     "execution_count": 28,
     "metadata": {},
     "output_type": "execute_result"
    }
   ],
   "source": [
    "df_sustainable = df_sustainable[df_sustainable['Material_Type'].isin(['Organic Cotton', 'Recycled Polyester', 'Tencel'])]\n",
    "df_sustainable.shape"
   ]
  },
  {
   "cell_type": "markdown",
   "metadata": {},
   "source": [
    "organic cotton"
   ]
  },
  {
   "cell_type": "code",
   "execution_count": 29,
   "metadata": {},
   "outputs": [
    {
     "data": {
      "text/plain": [
       "(14, 15)"
      ]
     },
     "execution_count": 29,
     "metadata": {},
     "output_type": "execute_result"
    }
   ],
   "source": [
    "df_coton_sustainable = df_sustainable[df_sustainable['Material_Type'] == 'Organic Cotton']\n",
    "df_coton_sustainable.shape"
   ]
  },
  {
   "cell_type": "code",
   "execution_count": 31,
   "metadata": {},
   "outputs": [
    {
     "data": {
      "text/html": [
       "<div>\n",
       "<style scoped>\n",
       "    .dataframe tbody tr th:only-of-type {\n",
       "        vertical-align: middle;\n",
       "    }\n",
       "\n",
       "    .dataframe tbody tr th {\n",
       "        vertical-align: top;\n",
       "    }\n",
       "\n",
       "    .dataframe thead th {\n",
       "        text-align: right;\n",
       "    }\n",
       "</style>\n",
       "<table border=\"1\" class=\"dataframe\">\n",
       "  <thead>\n",
       "    <tr style=\"text-align: right;\">\n",
       "      <th></th>\n",
       "      <th>Company</th>\n",
       "      <th>Product_Type</th>\n",
       "      <th>Production_Year</th>\n",
       "      <th>Greenhouse_Gas_Emissions</th>\n",
       "      <th>Pollutants_Emitted</th>\n",
       "      <th>Water_Consumption</th>\n",
       "      <th>Energy_Consumption</th>\n",
       "      <th>Waste_Generation</th>\n",
       "      <th>Sales_Revenue</th>\n",
       "    </tr>\n",
       "  </thead>\n",
       "  <tbody>\n",
       "    <tr>\n",
       "      <th>81</th>\n",
       "      <td>Adidas</td>\n",
       "      <td>Organic_Cotton</td>\n",
       "      <td>2020</td>\n",
       "      <td>4588</td>\n",
       "      <td>17</td>\n",
       "      <td>7605</td>\n",
       "      <td>1310</td>\n",
       "      <td>329</td>\n",
       "      <td>492422</td>\n",
       "    </tr>\n",
       "    <tr>\n",
       "      <th>173</th>\n",
       "      <td>Adidas</td>\n",
       "      <td>Organic_Cotton</td>\n",
       "      <td>2019</td>\n",
       "      <td>2425</td>\n",
       "      <td>25</td>\n",
       "      <td>6593</td>\n",
       "      <td>816</td>\n",
       "      <td>285</td>\n",
       "      <td>553680</td>\n",
       "    </tr>\n",
       "    <tr>\n",
       "      <th>174</th>\n",
       "      <td>Adidas</td>\n",
       "      <td>Organic_Cotton</td>\n",
       "      <td>2020</td>\n",
       "      <td>3009</td>\n",
       "      <td>16</td>\n",
       "      <td>4421</td>\n",
       "      <td>849</td>\n",
       "      <td>215</td>\n",
       "      <td>471713</td>\n",
       "    </tr>\n",
       "    <tr>\n",
       "      <th>222</th>\n",
       "      <td>Adidas</td>\n",
       "      <td>Organic_Cotton</td>\n",
       "      <td>2022</td>\n",
       "      <td>3636</td>\n",
       "      <td>12</td>\n",
       "      <td>4823</td>\n",
       "      <td>842</td>\n",
       "      <td>210</td>\n",
       "      <td>549504</td>\n",
       "    </tr>\n",
       "    <tr>\n",
       "      <th>276</th>\n",
       "      <td>Adidas</td>\n",
       "      <td>Organic_Cotton</td>\n",
       "      <td>2022</td>\n",
       "      <td>5419</td>\n",
       "      <td>12</td>\n",
       "      <td>6786</td>\n",
       "      <td>910</td>\n",
       "      <td>333</td>\n",
       "      <td>572868</td>\n",
       "    </tr>\n",
       "  </tbody>\n",
       "</table>\n",
       "</div>"
      ],
      "text/plain": [
       "    Company    Product_Type  Production_Year  Greenhouse_Gas_Emissions  \\\n",
       "81   Adidas  Organic_Cotton             2020                      4588   \n",
       "173  Adidas  Organic_Cotton             2019                      2425   \n",
       "174  Adidas  Organic_Cotton             2020                      3009   \n",
       "222  Adidas  Organic_Cotton             2022                      3636   \n",
       "276  Adidas  Organic_Cotton             2022                      5419   \n",
       "\n",
       "     Pollutants_Emitted  Water_Consumption  Energy_Consumption  \\\n",
       "81                   17               7605                1310   \n",
       "173                  25               6593                 816   \n",
       "174                  16               4421                 849   \n",
       "222                  12               4823                 842   \n",
       "276                  12               6786                 910   \n",
       "\n",
       "     Waste_Generation  Sales_Revenue  \n",
       "81                329         492422  \n",
       "173               285         553680  \n",
       "174               215         471713  \n",
       "222               210         549504  \n",
       "276               333         572868  "
      ]
     },
     "execution_count": 31,
     "metadata": {},
     "output_type": "execute_result"
    }
   ],
   "source": [
    "df_coton_plastic = df_plastic[df_plastic['Product_Type'] == 'Organic_Cotton']\n",
    "df_coton_plastic.shape\n",
    "df_coton_plastic.head()"
   ]
  }
 ],
 "metadata": {
  "kernelspec": {
   "display_name": "base",
   "language": "python",
   "name": "python3"
  },
  "language_info": {
   "codemirror_mode": {
    "name": "ipython",
    "version": 3
   },
   "file_extension": ".py",
   "mimetype": "text/x-python",
   "name": "python",
   "nbconvert_exporter": "python",
   "pygments_lexer": "ipython3",
   "version": "3.12.6"
  }
 },
 "nbformat": 4,
 "nbformat_minor": 2
}
